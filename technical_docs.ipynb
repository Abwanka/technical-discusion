{
  "nbformat": 4,
  "nbformat_minor": 0,
  "metadata": {
    "colab": {
      "provenance": [],
      "authorship_tag": "ABX9TyMhN69Jl7WrmhF5nesw6kSO",
      "include_colab_link": true
    },
    "kernelspec": {
      "name": "python3",
      "display_name": "Python 3"
    },
    "language_info": {
      "name": "python"
    }
  },
  "cells": [
    {
      "cell_type": "markdown",
      "metadata": {
        "id": "view-in-github",
        "colab_type": "text"
      },
      "source": [
        "<a href=\"https://colab.research.google.com/github/Abwanka/technical-discusion/blob/main/technical_docs.ipynb\" target=\"_parent\"><img src=\"https://colab.research.google.com/assets/colab-badge.svg\" alt=\"Open In Colab\"/></a>"
      ]
    },
    {
      "cell_type": "code",
      "source": [],
      "metadata": {
        "id": "WYNaOMP0zh--"
      },
      "execution_count": null,
      "outputs": []
    },
    {
      "cell_type": "markdown",
      "source": [
        "##Ingest\n"
      ],
      "metadata": {
        "id": "cah0WXe30W2M"
      }
    },
    {
      "cell_type": "code",
      "execution_count": null,
      "metadata": {
        "id": "99JlnDYPy3Iv"
      },
      "outputs": [],
      "source": [
        "def hello():\n",
        "  return \"hi\"\n",
        "  hello()\n"
      ]
    },
    {
      "cell_type": "markdown",
      "source": [
        "## EDA\n"
      ],
      "metadata": {
        "id": "SKQ_7Wse1Cw9"
      }
    },
    {
      "cell_type": "code",
      "source": [],
      "metadata": {
        "id": "sQeOLjvs0wOc"
      },
      "execution_count": null,
      "outputs": []
    },
    {
      "cell_type": "markdown",
      "source": [
        "### this is a markdown heading\n",
        "\n",
        "* One\n",
        "* Two"
      ],
      "metadata": {
        "id": "IMjfxG_k12KN"
      }
    },
    {
      "cell_type": "markdown",
      "source": [
        "## Modelling\n"
      ],
      "metadata": {
        "id": "fT-E2YFN1H_9"
      }
    },
    {
      "cell_type": "code",
      "source": [],
      "metadata": {
        "id": "59QTsxyJ1pdU"
      },
      "execution_count": null,
      "outputs": []
    },
    {
      "cell_type": "markdown",
      "source": [
        "## Conclusion"
      ],
      "metadata": {
        "id": "TAMGtpHm1KQM"
      }
    },
    {
      "cell_type": "code",
      "source": [],
      "metadata": {
        "id": "pK4YEv7H1qFV"
      },
      "execution_count": null,
      "outputs": []
    }
  ]
}